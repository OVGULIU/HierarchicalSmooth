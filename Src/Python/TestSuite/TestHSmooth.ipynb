{
 "cells": [
  {
   "cell_type": "code",
   "execution_count": 1,
   "metadata": {
    "collapsed": true
   },
   "outputs": [],
   "source": [
    "import numpy as np\n",
    "import Triangulation as tr\n",
    "import HierarchicalSmooth as hs\n",
    "import Base as base\n",
    "from scipy.sparse import csc_matrix\n",
    "import time"
   ]
  },
  {
   "cell_type": "code",
   "execution_count": 9,
   "metadata": {
    "collapsed": false
   },
   "outputs": [
    {
     "ename": "AttributeError",
     "evalue": "'module' object has no attribute 'Cryptography_HAS_SSL_ST'",
     "output_type": "error",
     "traceback": [
      "\u001b[0;31m\u001b[0m",
      "\u001b[0;31mAttributeError\u001b[0mTraceback (most recent call last)",
      "\u001b[0;32m<ipython-input-9-eaca8fe7ee60>\u001b[0m in \u001b[0;36m<module>\u001b[0;34m()\u001b[0m\n\u001b[0;32m----> 1\u001b[0;31m \u001b[0;32mimport\u001b[0m \u001b[0mplotly\u001b[0m \u001b[0;32mas\u001b[0m \u001b[0mpy\u001b[0m\u001b[0;34m\u001b[0m\u001b[0m\n\u001b[0m\u001b[1;32m      2\u001b[0m \u001b[0;32mfrom\u001b[0m \u001b[0mplotly\u001b[0m\u001b[0;34m.\u001b[0m\u001b[0mtools\u001b[0m \u001b[0;32mimport\u001b[0m \u001b[0mFigureFactory\u001b[0m \u001b[0;32mas\u001b[0m \u001b[0mFF\u001b[0m\u001b[0;34m\u001b[0m\u001b[0m\n\u001b[1;32m      3\u001b[0m \u001b[0;32mfrom\u001b[0m \u001b[0mplotly\u001b[0m\u001b[0;34m.\u001b[0m\u001b[0mgraph_objs\u001b[0m \u001b[0;32mimport\u001b[0m \u001b[0mgraph_objs\u001b[0m\u001b[0;34m\u001b[0m\u001b[0m\n\u001b[1;32m      4\u001b[0m \u001b[0;34m\u001b[0m\u001b[0m\n\u001b[1;32m      5\u001b[0m \u001b[0mpy\u001b[0m\u001b[0;34m.\u001b[0m\u001b[0moffline\u001b[0m\u001b[0;34m.\u001b[0m\u001b[0minit_notebook_mode\u001b[0m\u001b[0;34m(\u001b[0m\u001b[0;34m)\u001b[0m\u001b[0;34m\u001b[0m\u001b[0m\n",
      "\u001b[0;32m/usr/local/lib/python2.7/dist-packages/plotly/__init__.py\u001b[0m in \u001b[0;36m<module>\u001b[0;34m()\u001b[0m\n\u001b[1;32m     29\u001b[0m \u001b[0;32mfrom\u001b[0m \u001b[0m__future__\u001b[0m \u001b[0;32mimport\u001b[0m \u001b[0mabsolute_import\u001b[0m\u001b[0;34m\u001b[0m\u001b[0m\n\u001b[1;32m     30\u001b[0m \u001b[0;34m\u001b[0m\u001b[0m\n\u001b[0;32m---> 31\u001b[0;31m from plotly import (plotly, graph_objs, grid_objs, tools, utils, session,\n\u001b[0m\u001b[1;32m     32\u001b[0m                     offline, colors)\n\u001b[1;32m     33\u001b[0m \u001b[0;32mfrom\u001b[0m \u001b[0mplotly\u001b[0m\u001b[0;34m.\u001b[0m\u001b[0mversion\u001b[0m \u001b[0;32mimport\u001b[0m \u001b[0m__version__\u001b[0m\u001b[0;34m\u001b[0m\u001b[0m\n",
      "\u001b[0;32m/usr/local/lib/python2.7/dist-packages/plotly/plotly/__init__.py\u001b[0m in \u001b[0;36m<module>\u001b[0;34m()\u001b[0m\n\u001b[1;32m      8\u001b[0m \u001b[0;34m\u001b[0m\u001b[0m\n\u001b[1;32m      9\u001b[0m \"\"\"\n\u001b[0;32m---> 10\u001b[0;31m from . plotly import (\n\u001b[0m\u001b[1;32m     11\u001b[0m     \u001b[0msign_in\u001b[0m\u001b[0;34m,\u001b[0m\u001b[0;34m\u001b[0m\u001b[0m\n\u001b[1;32m     12\u001b[0m     \u001b[0mupdate_plot_options\u001b[0m\u001b[0;34m,\u001b[0m\u001b[0;34m\u001b[0m\u001b[0m\n",
      "\u001b[0;32m/usr/local/lib/python2.7/dist-packages/plotly/plotly/plotly.py\u001b[0m in \u001b[0;36m<module>\u001b[0;34m()\u001b[0m\n\u001b[1;32m     23\u001b[0m \u001b[0;32mimport\u001b[0m \u001b[0mwarnings\u001b[0m\u001b[0;34m\u001b[0m\u001b[0m\n\u001b[1;32m     24\u001b[0m \u001b[0;34m\u001b[0m\u001b[0m\n\u001b[0;32m---> 25\u001b[0;31m \u001b[0;32mimport\u001b[0m \u001b[0mrequests\u001b[0m\u001b[0;34m\u001b[0m\u001b[0m\n\u001b[0m\u001b[1;32m     26\u001b[0m \u001b[0;32mimport\u001b[0m \u001b[0msix\u001b[0m\u001b[0;34m\u001b[0m\u001b[0m\n\u001b[1;32m     27\u001b[0m \u001b[0;32mimport\u001b[0m \u001b[0msix\u001b[0m\u001b[0;34m.\u001b[0m\u001b[0mmoves\u001b[0m\u001b[0;34m\u001b[0m\u001b[0m\n",
      "\u001b[0;32m/usr/local/lib/python2.7/dist-packages/requests/__init__.py\u001b[0m in \u001b[0;36m<module>\u001b[0;34m()\u001b[0m\n\u001b[1;32m     50\u001b[0m \u001b[0;31m# Attempt to enable urllib3's SNI support, if possible\u001b[0m\u001b[0;34m\u001b[0m\u001b[0;34m\u001b[0m\u001b[0m\n\u001b[1;32m     51\u001b[0m \u001b[0;32mtry\u001b[0m\u001b[0;34m:\u001b[0m\u001b[0;34m\u001b[0m\u001b[0m\n\u001b[0;32m---> 52\u001b[0;31m     \u001b[0;32mfrom\u001b[0m \u001b[0;34m.\u001b[0m\u001b[0mpackages\u001b[0m\u001b[0;34m.\u001b[0m\u001b[0murllib3\u001b[0m\u001b[0;34m.\u001b[0m\u001b[0mcontrib\u001b[0m \u001b[0;32mimport\u001b[0m \u001b[0mpyopenssl\u001b[0m\u001b[0;34m\u001b[0m\u001b[0m\n\u001b[0m\u001b[1;32m     53\u001b[0m     \u001b[0mpyopenssl\u001b[0m\u001b[0;34m.\u001b[0m\u001b[0minject_into_urllib3\u001b[0m\u001b[0;34m(\u001b[0m\u001b[0;34m)\u001b[0m\u001b[0;34m\u001b[0m\u001b[0m\n\u001b[1;32m     54\u001b[0m \u001b[0;32mexcept\u001b[0m \u001b[0mImportError\u001b[0m\u001b[0;34m:\u001b[0m\u001b[0;34m\u001b[0m\u001b[0m\n",
      "\u001b[0;32m/usr/local/lib/python2.7/dist-packages/requests/packages/urllib3/contrib/pyopenssl.py\u001b[0m in \u001b[0;36m<module>\u001b[0;34m()\u001b[0m\n\u001b[1;32m     45\u001b[0m \u001b[0;34m\u001b[0m\u001b[0m\n\u001b[1;32m     46\u001b[0m \u001b[0;32mimport\u001b[0m \u001b[0midna\u001b[0m\u001b[0;34m\u001b[0m\u001b[0m\n\u001b[0;32m---> 47\u001b[0;31m \u001b[0;32mimport\u001b[0m \u001b[0mOpenSSL\u001b[0m\u001b[0;34m.\u001b[0m\u001b[0mSSL\u001b[0m\u001b[0;34m\u001b[0m\u001b[0m\n\u001b[0m\u001b[1;32m     48\u001b[0m \u001b[0;32mfrom\u001b[0m \u001b[0mcryptography\u001b[0m \u001b[0;32mimport\u001b[0m \u001b[0mx509\u001b[0m\u001b[0;34m\u001b[0m\u001b[0m\n\u001b[1;32m     49\u001b[0m \u001b[0;32mfrom\u001b[0m \u001b[0mcryptography\u001b[0m\u001b[0;34m.\u001b[0m\u001b[0mhazmat\u001b[0m\u001b[0;34m.\u001b[0m\u001b[0mbackends\u001b[0m\u001b[0;34m.\u001b[0m\u001b[0mopenssl\u001b[0m \u001b[0;32mimport\u001b[0m \u001b[0mbackend\u001b[0m \u001b[0;32mas\u001b[0m \u001b[0mopenssl_backend\u001b[0m\u001b[0;34m\u001b[0m\u001b[0m\n",
      "\u001b[0;32m/usr/local/lib/python2.7/dist-packages/OpenSSL/__init__.py\u001b[0m in \u001b[0;36m<module>\u001b[0;34m()\u001b[0m\n\u001b[1;32m      6\u001b[0m \"\"\"\n\u001b[1;32m      7\u001b[0m \u001b[0;34m\u001b[0m\u001b[0m\n\u001b[0;32m----> 8\u001b[0;31m \u001b[0;32mfrom\u001b[0m \u001b[0mOpenSSL\u001b[0m \u001b[0;32mimport\u001b[0m \u001b[0mrand\u001b[0m\u001b[0;34m,\u001b[0m \u001b[0mcrypto\u001b[0m\u001b[0;34m,\u001b[0m \u001b[0mSSL\u001b[0m\u001b[0;34m\u001b[0m\u001b[0m\n\u001b[0m\u001b[1;32m      9\u001b[0m from OpenSSL.version import (\n\u001b[1;32m     10\u001b[0m     \u001b[0m__author__\u001b[0m\u001b[0;34m,\u001b[0m \u001b[0m__copyright__\u001b[0m\u001b[0;34m,\u001b[0m \u001b[0m__email__\u001b[0m\u001b[0;34m,\u001b[0m \u001b[0m__license__\u001b[0m\u001b[0;34m,\u001b[0m \u001b[0m__summary__\u001b[0m\u001b[0;34m,\u001b[0m \u001b[0m__title__\u001b[0m\u001b[0;34m,\u001b[0m\u001b[0;34m\u001b[0m\u001b[0m\n",
      "\u001b[0;32m/usr/local/lib/python2.7/dist-packages/OpenSSL/SSL.py\u001b[0m in \u001b[0;36m<module>\u001b[0;34m()\u001b[0m\n\u001b[1;32m    110\u001b[0m \u001b[0mSSL_ST_ACCEPT\u001b[0m \u001b[0;34m=\u001b[0m \u001b[0m_lib\u001b[0m\u001b[0;34m.\u001b[0m\u001b[0mSSL_ST_ACCEPT\u001b[0m\u001b[0;34m\u001b[0m\u001b[0m\n\u001b[1;32m    111\u001b[0m \u001b[0mSSL_ST_MASK\u001b[0m \u001b[0;34m=\u001b[0m \u001b[0m_lib\u001b[0m\u001b[0;34m.\u001b[0m\u001b[0mSSL_ST_MASK\u001b[0m\u001b[0;34m\u001b[0m\u001b[0m\n\u001b[0;32m--> 112\u001b[0;31m \u001b[0;32mif\u001b[0m \u001b[0m_lib\u001b[0m\u001b[0;34m.\u001b[0m\u001b[0mCryptography_HAS_SSL_ST\u001b[0m\u001b[0;34m:\u001b[0m\u001b[0;34m\u001b[0m\u001b[0m\n\u001b[0m\u001b[1;32m    113\u001b[0m     \u001b[0mSSL_ST_INIT\u001b[0m \u001b[0;34m=\u001b[0m \u001b[0m_lib\u001b[0m\u001b[0;34m.\u001b[0m\u001b[0mSSL_ST_INIT\u001b[0m\u001b[0;34m\u001b[0m\u001b[0m\n\u001b[1;32m    114\u001b[0m     \u001b[0mSSL_ST_BEFORE\u001b[0m \u001b[0;34m=\u001b[0m \u001b[0m_lib\u001b[0m\u001b[0;34m.\u001b[0m\u001b[0mSSL_ST_BEFORE\u001b[0m\u001b[0;34m\u001b[0m\u001b[0m\n",
      "\u001b[0;31mAttributeError\u001b[0m: 'module' object has no attribute 'Cryptography_HAS_SSL_ST'"
     ]
    }
   ],
   "source": [
    "import plotly as py\n",
    "from plotly.tools import FigureFactory as FF\n",
    "from plotly.graph_objs import graph_objs\n",
    "\n",
    "py.offline.init_notebook_mode()\n",
    "\n",
    "from scipy.spatial import Delaunay\n",
    "\n",
    "import Base as base"
   ]
  },
  {
   "cell_type": "code",
   "execution_count": 3,
   "metadata": {
    "collapsed": false
   },
   "outputs": [],
   "source": [
    "filePrefix = '/home/siddharth/CMU/intro_to_research/intro/DREAM3D/DREAM3D-6.1.3-Linux-x86_64/Data/Mesh'\n",
    "\n",
    "P = np.loadtxt( filePrefix + '/SharedVertexList.txt' ).T\n",
    "tri = np.loadtxt( filePrefix + '/SharedTriList.txt', dtype=int )\n",
    "nFaceLabels = np.loadtxt( filePrefix + '/FaceLabels.txt', dtype=int )\n",
    "nType = np.loadtxt( filePrefix + '/NodeType.txt', dtype=int )"
   ]
  },
  {
   "cell_type": "code",
   "execution_count": 4,
   "metadata": {
    "collapsed": true
   },
   "outputs": [],
   "source": [
    "BoundaryDict = {}  # hashing surface elements takes a few minutes; better now than later!\n",
    "for i in range( len ( nFaceLabels ) ):\n",
    "    if nFaceLabels[i,0] > nFaceLabels[i,1]:\n",
    "        nFaceLabels[i,0], nFaceLabels[i,1] = nFaceLabels[i,1], nFaceLabels[i,0]\n",
    "        tri[i,0], tri[i,1] = tri[i,1], tri[i,0]\n",
    "    try:\n",
    "        BoundaryDict[ str( nFaceLabels[i] ) ].append( i )\n",
    "    except KeyError:\n",
    "        BoundaryDict[ str( nFaceLabels[i] ) ] = [ i ] # start a new list\n",
    "\n",
    "nUniqFaces = np.vstack( { tuple( row ) for row in nFaceLabels} )"
   ]
  },
  {
   "cell_type": "code",
   "execution_count": 5,
   "metadata": {
    "collapsed": false
   },
   "outputs": [
    {
     "name": "stdout",
     "output_type": "stream",
     "text": [
      "Number of grain boundaries = 4728\n",
      "Number of unique grains = 795\n"
     ]
    }
   ],
   "source": [
    "print 'Number of grain boundaries = %d' % len( BoundaryDict )\n",
    "print 'Number of unique grains = %d' % np.unique( nUniqFaces ).size"
   ]
  },
  {
   "cell_type": "code",
   "execution_count": null,
   "metadata": {
    "collapsed": false
   },
   "outputs": [],
   "source": [
    "nGB = 1\n",
    "\n",
    "# triGB = tri[ np.where( base.ismember( nFaceLabels, nUniqFaces[nGB].reshape( 1, -1 ), 'rows' )[0] )[0], : ]\n",
    "triGB = tri[ BoundaryDict[ str( nUniqFaces[nGB] ) ], : ]\n",
    "pointGB = np.unique( triGB )\n",
    "triGB = np.array( base.ismember( triGB, pointGB )[1] ).reshape( -1, 3 )\n",
    "xGB = P[ :, pointGB ]\n",
    "typeGB = nType[ pointGB ]\n",
    "\n",
    "t0 = time.time()\n",
    "FB, FBsec = hs.DifferentiateFaces( tr.Triangulation( triGB, xGB ) )\n",
    "print 'Differentiating faces %s seconds' % str( time.time() - t0 )"
   ]
  },
  {
   "cell_type": "code",
   "execution_count": 14,
   "metadata": {
    "collapsed": false
   },
   "outputs": [
    {
     "name": "stdout",
     "output_type": "stream",
     "text": [
      "Patches = 3760\n",
      "nodes = 1884\n"
     ]
    }
   ],
   "source": [
    "%autoreload\n",
    "nGrain = np.array( [ 182, 146, 23 ] )\n",
    "nGrainPatches = np.any( base.ismember( nFaceLabels, nGrain )[0], axis=1 )\n",
    "nGrainFaces = nFaceLabels[ nGrainPatches ]\n",
    "triGrain = tri[ nGrainPatches, : ]\n",
    "pointGrain = np.unique( triGrain )\n",
    "triGrain = np.array( base.ismember( triGrain, pointGrain )[1] ).reshape( -1, 3 )\n",
    "PGrain = P[ :, pointGrain ]\n",
    "nGrainType = nType[ pointGrain ]\n",
    "\n",
    "print 'Patches = %d' % len( triGrain )\n",
    "print 'nodes = %d' % PGrain.shape[1]\n",
    "# nFaceLabels[ np.any( nFaceLabels==nGrain, axis=1 ) ]"
   ]
  },
  {
   "cell_type": "code",
   "execution_count": null,
   "metadata": {
    "collapsed": false
   },
   "outputs": [],
   "source": [
    "fig1 = FF.create_trisurf(x=PGrain[0], y=PGrain[1], z=PGrain[2],\n",
    "                         simplices=triGrain,\n",
    "                         title=\"System of %d grains\" % nGrain.size, \n",
    "                         aspectratio=dict( \n",
    "                            x = np.ptp( PGrain[0] ), \n",
    "                            y = np.ptp( PGrain[1] ), \n",
    "                            z = np.ptp( PGrain[2] )\n",
    "                        )\n",
    "                        )\n",
    "py.offline.iplot(fig1 )"
   ]
  },
  {
   "cell_type": "code",
   "execution_count": 12,
   "metadata": {
    "collapsed": false
   },
   "outputs": [
    {
     "name": "stdout",
     "output_type": "stream",
     "text": [
      "Hashing interface elements (this may take some time)... 1.3663380146 seconds. \n",
      "Interface [146 257]: 1 of 39..."
     ]
    },
    {
     "name": "stderr",
     "output_type": "stream",
     "text": [
      "HierarchicalSmooth.Smooth warning: Max. number of iterations reached.\n",
      "HierarchicalSmooth.Smooth warning: Max. number of iterations reached.\n"
     ]
    },
    {
     "name": "stdout",
     "output_type": "stream",
     "text": [
      " 44.6793279648 seconds. \n",
      "Interface [ 23 748]: 2 of 39... 1.12443709373 seconds. \n",
      "Interface [122 182]: 3 of 39... 0.377675056458 seconds. \n",
      "Interface [135 182]: 4 of 39... 1.14991497993 seconds. \n",
      "Interface [182 422]: 5 of 39... 0.940422058105 seconds. \n",
      "Interface [169 182]: 6 of 39..."
     ]
    },
    {
     "name": "stderr",
     "output_type": "stream",
     "text": [
      "HierarchicalSmooth.Smooth warning: Max. number of iterations reached.\n"
     ]
    },
    {
     "name": "stdout",
     "output_type": "stream",
     "text": [
      " 22.5697309971 seconds. \n",
      "Interface [146 398]: 7 of 39... 0.725904941559 seconds. \n",
      "Interface [146 317]: 8 of 39... 0.959426879883 seconds. \n",
      "Interface [146 657]: 9 of 39... 1.22398996353 seconds. \n",
      "Interface [ 23 301]: 10 of 39... 0.966820001602 seconds. \n",
      "Interface [ 23 231]: 11 of 39... 0.458081960678 seconds. \n",
      "Interface [182 639]: 12 of 39... 1.22573685646 seconds. \n",
      "Interface [ -1 146]: 13 of 39..."
     ]
    },
    {
     "name": "stderr",
     "output_type": "stream",
     "text": [
      "HierarchicalSmooth.Smooth warning: Max. number of iterations reached.\n"
     ]
    },
    {
     "name": "stdout",
     "output_type": "stream",
     "text": [
      " 24.0119428635 seconds. \n",
      "Interface [146 579]: 14 of 39... 0.814415931702 seconds. \n",
      "Interface [ 11 182]: 15 of 39... 0.527235031128 seconds. \n",
      "Interface [146 259]: 16 of 39... 0.237420797348 seconds. \n",
      "Interface [146 715]: 17 of 39... 1.14065003395 seconds. \n",
      "Interface [146 697]: 18 of 39... 1.12144899368 seconds. \n",
      "Interface [182 311]: 19 of 39... 0.917966127396 seconds. \n",
      "Interface [182 368]: 20 of 39... 0.650207996368 seconds. \n",
      "Interface [146 352]: 21 of 39... 0.952342987061 seconds. \n",
      "Interface [182 541]: 22 of 39... 0.859292984009 seconds. \n",
      "Interface [  1 182]: 23 of 39... 0.357870101929 seconds. \n",
      "Interface [ 23 353]: 24 of 39... 0.898932933807 seconds. \n",
      "Interface [142 146]: 25 of 39... 0.116030931473 seconds. \n",
      "Interface [ 79 182]: 26 of 39... 1.28814411163 seconds. \n",
      "Interface [182 565]: 27 of 39... 1.10059690475 seconds. \n",
      "Interface [146 536]: 28 of 39... 0.689841985703 seconds. \n",
      "Interface [146 391]: 29 of 39... 0.537807941437 seconds. \n",
      "Interface [146 486]: 30 of 39... 0.801457881927 seconds. \n",
      "Interface [ 23 759]: 31 of 39... 0.0119819641113 seconds. \n",
      "Interface [182 339]: 32 of 39... 0.957401990891 seconds. \n",
      "Interface [146 184]: 33 of 39... 0.0147759914398 seconds. \n",
      "Interface [182 667]: 34 of 39... 2.30075097084 seconds. \n",
      "Interface [ 71 182]: 35 of 39... 0.576992034912 seconds. \n",
      "Interface [-1 23]: 36 of 39... 0.59910607338 seconds. \n",
      "Interface [146 614]: 37 of 39... 0.72262096405 seconds. \n",
      "Interface [146 574]: 38 of 39... 0.490240097046 seconds. \n",
      "Interface [ -1 182]: 39 of 39... 0.623727083206 seconds. \n"
     ]
    }
   ],
   "source": [
    "%autoreload\n",
    "xS, bPS = hs.HierarchicalSmooth( PGrain, triGrain, nGrainFaces, nGrainType )"
   ]
  },
  {
   "cell_type": "code",
   "execution_count": 13,
   "metadata": {
    "collapsed": false
   },
   "outputs": [],
   "source": [
    "np.savetxt( filePrefix + '/SmoothVertexList.txt', xS.T, fmt='%f' )\n",
    "np.savetxt( filePrefix + '/SmoothTriList.txt', triGrain, fmt='%d')\n",
    "np.savetxt( filePrefix + '/BoolSmoothed.txt', bPS, fmt='%d' )\n",
    "np.savetxt( filePrefix + '/TypeSmoothed.txt', nGrainType, fmt='%d' )"
   ]
  },
  {
   "cell_type": "code",
   "execution_count": 10,
   "metadata": {
    "collapsed": false
   },
   "outputs": [
    {
     "name": "stdout",
     "output_type": "stream",
     "text": [
      "Hashing interface elements (this may take some time)... 0.0732848644257 seconds. \n",
      "Interface [182 667]: 1 of 1..."
     ]
    },
    {
     "name": "stderr",
     "output_type": "stream",
     "text": [
      "/usr/local/lib/python2.7/dist-packages/scipy/sparse/linalg/dsolve/linsolve.py:247: SparseEfficiencyWarning: splu requires CSC matrix format\n",
      "  warn('splu requires CSC matrix format', SparseEfficiencyWarning)\n",
      "/usr/local/lib/python2.7/dist-packages/scipy/sparse/compressed.py:730: SparseEfficiencyWarning: Changing the sparsity structure of a csc_matrix is expensive. lil_matrix is more efficient.\n",
      "  SparseEfficiencyWarning)\n"
     ]
    },
    {
     "name": "stdout",
     "output_type": "stream",
     "text": [
      " 2.45848798752 seconds. \n"
     ]
    }
   ],
   "source": [
    "%autoreload\n",
    "triBad = tri[ BoundaryDict[ '[182 565]' ], : ]\n",
    "pBad = np.unique( triBad )\n",
    "triBad = np.array( base.ismember( triBad, pBad )[1] ).reshape( -1, 3 )\n",
    "pointBad = P[ :, pBad ]\n",
    "typeBad = nType[ pBad ]\n",
    "\n",
    "T = tr.Triangulation( triBad, pointBad )\n",
    "FB, FBsec = hs.DifferentiateFaces( T )\n",
    "thisFB = FBsec[0]\n",
    "thisRange = FB[ thisFB[0]:thisFB[1]+1, 0 ]\n",
    "\n",
    "# pointPerimeter = pointBad[ :, thisRange ]\n",
    "# fixPerimeter = np.where( ( typeBad[ thisRange ] )%10==4 )[0]\n",
    "\n",
    "# xS = hs.Smooth( pointPerimeter.T, 1.e-4, 2000, \n",
    "#                nFixed=fixPerimeter\n",
    "#               )[0]\n",
    "# np.savetxt( filePrefix + '/Perimeter.txt', pointPerimeter, fmt='%f' )\n",
    "# np.savetxt( filePrefix + '/Fixed.txt', fixPerimeter, fmt='%d' )\n",
    "# np.savetxt( filePrefix + '/PSmooth.txt', xS.T, fmt='%f' )\n",
    "\n",
    "xS, PS = hs.HierarchicalSmooth( \n",
    "    xPoints=pointBad, \n",
    "    tri=triBad, \n",
    "    nFaceLabels=np.array( [ 182, 667 ] ).reshape( 1, -1 ).repeat( len( triBad ), axis=0 ),\n",
    "    nNodeType=typeBad, \n",
    "    fThreshold=1.e-5  \n",
    ")\n",
    "\n",
    "np.savetxt( filePrefix + '/BadVertex.txt', pointBad.T, fmt='%f' )\n",
    "np.savetxt( filePrefix + '/BadTri.txt', triBad, fmt='%d' )\n",
    "np.savetxt( filePrefix + '/BadType.txt', typeBad, fmt='%d' )\n",
    "np.savetxt( filePrefix + '/BadSmooth.txt', xS.T, fmt='%f' )\n",
    "np.savetxt( filePrefix + '/BadBool.txt', PS, fmt='%d' )\n",
    "\n",
    "# print triBad.shape\n",
    "# print pBad.shape\n",
    "# # print nType[ pBad ]\n",
    "\n",
    "# T = tr.Triangulation( triBad, pointBad )\n",
    "# print hs.DifferentiateFaces( T )"
   ]
  }
 ],
 "metadata": {
  "kernelspec": {
   "display_name": "Python 2",
   "language": "python",
   "name": "python2"
  },
  "language_info": {
   "codemirror_mode": {
    "name": "ipython",
    "version": 2
   },
   "file_extension": ".py",
   "mimetype": "text/x-python",
   "name": "python",
   "nbconvert_exporter": "python",
   "pygments_lexer": "ipython2",
   "version": "2.7.12"
  }
 },
 "nbformat": 4,
 "nbformat_minor": 1
}
