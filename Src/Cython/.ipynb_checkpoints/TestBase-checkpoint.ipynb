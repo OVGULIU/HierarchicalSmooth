{
 "cells": [
  {
   "cell_type": "code",
   "execution_count": 2,
   "metadata": {
    "collapsed": false
   },
   "outputs": [
    {
     "name": "stdout",
     "output_type": "stream",
     "text": [
      "(5000, 2)\n",
      "(5000, 1)\n",
      "1 loop, best of 3: 3.96 s per loop\n",
      "1 loop, best of 3: 3.96 s per loop\n",
      "1 loop, best of 3: 4.06 s per loop\n"
     ]
    }
   ],
   "source": [
    "import numpy as np\n",
    "\n",
    "arr  = np.random.permutation( 100000 )[ :10000 ].reshape( -1, 2 )\n",
    "arr2 = np.random.permutation( 100000 )[ :5000  ].reshape( -1, 1 )\n",
    "\n",
    "print arr.shape\n",
    "print arr2.shape\n",
    "\n",
    "import Base as b0\n",
    "import Base_1 as b1c\n",
    "import Base_1_cpp as b1cpp\n",
    "\n",
    "%timeit x, y = b0.ismember( arr, arr2 )\n",
    "%timeit x, y = b1c.ismember( arr, arr2 )\n",
    "%timeit x, y = b1cpp.ismember( arr, arr2 )\n"
   ]
  },
  {
   "cell_type": "code",
   "execution_count": 6,
   "metadata": {
    "collapsed": false
   },
   "outputs": [
    {
     "name": "stdout",
     "output_type": "stream",
     "text": [
      "<type 'str'>\n",
      "<type 'numpy.ndarray'>\n"
     ]
    }
   ],
   "source": [
    "s = 'hello world'\n",
    "print type( s )\n",
    "\n",
    "print type( np.random.rand( 10 ) )"
   ]
  }
 ],
 "metadata": {
  "kernelspec": {
   "display_name": "Python 2",
   "language": "python",
   "name": "python2"
  },
  "language_info": {
   "codemirror_mode": {
    "name": "ipython",
    "version": 2
   },
   "file_extension": ".py",
   "mimetype": "text/x-python",
   "name": "python",
   "nbconvert_exporter": "python",
   "pygments_lexer": "ipython2",
   "version": "2.7.12"
  }
 },
 "nbformat": 4,
 "nbformat_minor": 1
}
